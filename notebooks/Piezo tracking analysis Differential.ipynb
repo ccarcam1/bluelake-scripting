{
 "cells": [
  {
   "cell_type": "markdown",
   "metadata": {},
   "source": [
    "# Piezo Tracking Analysis\n",
    "\n",
    "This notebook can be used to analyze data from C-Trap experiments in which the force-distance curve of a DNA molecule is reconstructed from trap steering sensor data, instead of video tracking.\n",
    "\n",
    "We will assume the following configuration of the experiment:\n",
    "\n",
    "         tethered DNA\n",
    "         v\n",
    "    O----------O <--> trap 1 is moved along X\n",
    "    ^          ^\n",
    "    trap 2     trap 1 with bead\n",
    "    \n",
    "So: trap 2 is positioned on the left, and is kept fixed throughout the experiments. Trap 1 is positioned to the right of trap 2, such that the tethered DNA molecule is horizontal. Stretching of the DNA is done by moving trap 1 to the right.\n",
    "\n",
    "In the above configuration, we only have to consider distances and forces along the X (horizontal) axis. We will conveniently ignore any forces in Y."
   ]
  },
  {
   "cell_type": "code",
   "execution_count": null,
   "metadata": {},
   "outputs": [],
   "source": [
    "import numpy as np\n",
    "import matplotlib.pyplot as plt\n",
    "%matplotlib inline\n",
    "\n",
    "from lumicks import pylake"
   ]
  },
  {
   "cell_type": "markdown",
   "metadata": {},
   "source": [
    "## I. Sensor-to-Distance Calibration\n",
    "\n",
    "As a first step, one should record a file with \"baseline data\". Here, beads are captured in traps 1 and 2 and tracked using video tracking, but no DNA molecule is tethered. One then places trap 1 first on the left of the available range of motion, and keeps it there for a second or so. Then trap 1 is moved to the far right, and kept there again for a short time.\n",
    "\n",
    "These two data points are then used to calculate a calibration value between the video tracking, and the trap steering sensor data."
   ]
  },
  {
   "cell_type": "markdown",
   "metadata": {},
   "source": [
    "**[TODO]** For now, the code below takes the whole baseline curve, and runs a linear fit on the full sensor value vs. video tracking plot. Taking the static endpoints would be more accurate, as the trap would be standing still there."
   ]
  },
  {
   "cell_type": "code",
   "execution_count": null,
   "metadata": {},
   "outputs": [],
   "source": [
    "# Load data file with calibration info\n",
    "cal_data = pylake.File('example.h5')"
   ]
  },
  {
   "cell_type": "code",
   "execution_count": null,
   "metadata": {},
   "outputs": [],
   "source": [
    "# Extract video tracking distance data and sensor data\n",
    "# NOTE: The distance data should already have the bead diameter subtracted\n",
    "# by Bluelake.\n",
    "sensor_data = cal_data['Trap position']['1X']\n",
    "sensor_data_start = sensor_data.timestamps[0]\n",
    "sensor_data_stop = sensor_data.timestamps[-1]\n",
    "dist_data = cal_data.distance1[sensor_data_start:sensor_data_stop]\n",
    "\n",
    "dist_data_t = dist_data.timestamps\n",
    "sensor_data_t = sensor_data.timestamps\n",
    "sensor_data_filter = np.isin(sensor_data_t, dist_data_t, assume_unique=True)\n",
    "sensor_data_filtered = sensor_data.data[sensor_data_filter]"
   ]
  },
  {
   "cell_type": "code",
   "execution_count": null,
   "metadata": {},
   "outputs": [],
   "source": [
    "cal = np.polyfit(sensor_data_filtered, dist_data.data, 1)\n",
    "cal_fun = np.poly1d(cal)\n",
    "print(f'Fit result for sensor/distance calibration: d = {cal[0]:.4f} * x + {cal[1]:.3f}')"
   ]
  },
  {
   "cell_type": "code",
   "execution_count": null,
   "metadata": {},
   "outputs": [],
   "source": [
    "plt.figure(figsize=(8,6))\n",
    "plt.title('Trap 1 sensor data vs. video tracking distance')\n",
    "plt.scatter(sensor_data_filtered, dist_data.data, s=2)\n",
    "plt.plot(sensor_data_filtered, cal_fun(sensor_data_filtered), '-r')\n",
    "plt.xlabel('Trap 1 sensor $x$ (V)')\n",
    "plt.ylabel('Video tracking distance $d$ (um)')\n",
    "plt.show()"
   ]
  },
  {
   "cell_type": "code",
   "execution_count": null,
   "metadata": {},
   "outputs": [],
   "source": [
    "del cal_data"
   ]
  },
  {
   "cell_type": "markdown",
   "metadata": {},
   "source": [
    "## II. Force Baseline Calibration\n",
    "\n",
    "If traps 1 and 2 are in very close proximity to each other (say, around 1 um or less), they will directly interact with each other. This generates a small but significant, distance-dependent force signal. This _baseline_ force needs to be subtracted from the data, in order to obtain the _actual_ force on the tether.\n",
    "\n",
    "(Note that this is not the same as the trap-trap interference signal often observed in other optical tweezers systems: such interference is actively canceled out by the optical design of the C-Trap.)\n",
    "\n",
    "To keep the subtraction performant, we'll fit a polynomial to the baseline curve, and use that polynomial for the subtraction later on."
   ]
  },
  {
   "cell_type": "code",
   "execution_count": null,
   "metadata": {},
   "outputs": [],
   "source": [
    "baseline_data = pylake.File('example2.h5')"
   ]
  },
  {
   "cell_type": "code",
   "execution_count": null,
   "metadata": {},
   "outputs": [],
   "source": [
    "downsampling_factor = 100  # to speed up the fit\n",
    "force_data = -baseline_data.force2x.downsampled_by(factor=downsampling_factor).data\n",
    "sensor_data = baseline_data['Trap Position']['Trap 1x'].downsampled_by(factor=downsampling_factor).data\n",
    "\n",
    "baseline_curve = np.poly1d(np.polyfit(sensor_data, force_data, deg=7))"
   ]
  },
  {
   "cell_type": "code",
   "execution_count": null,
   "metadata": {},
   "outputs": [],
   "source": [
    "plt.figure(figsize=(8,5))\n",
    "plt.scatter(sensor_data, force_data, s=3)\n",
    "plt.plot(sensor_data, baseline_curve(sensor_data), '-r')\n",
    "plt.xlabel('Trap 1 sensor $x$ (V)')\n",
    "plt.ylabel('Force baseline (pN)')\n",
    "plt.title('Force baseline')\n",
    "plt.show()"
   ]
  },
  {
   "cell_type": "code",
   "execution_count": null,
   "metadata": {},
   "outputs": [],
   "source": [
    "del baseline_data"
   ]
  },
  {
   "cell_type": "markdown",
   "metadata": {},
   "source": [
    "## III. Data Analysis\n",
    "\n",
    "For the actual data analysis, we can now convert trap 1 sensor positions into trap-to-trap distances. However, there are three more corrections we need to make:\n",
    "\n",
    "1. **Subtract bead displacement.**\n",
    "\n",
    "  At high forces, the actual configuration of the experiment looks more like this:\n",
    "  \n",
    "       trap 2 center\n",
    "       |  bead in trap 2\n",
    "       v  v\n",
    "       x  O-------O  x\n",
    "                  ^  ^\n",
    "                  |  trap 1 center\n",
    "                  bead in trap 1\n",
    "                     \n",
    "   Because of the forces acting on the beads, they are pulled out of the centers of the optical traps. We need to subtract this \"bead displacement\" from the trap-to-trap distance, in order to obtain the real tether length.\n",
    "   \n",
    "2. **Differential force detection.** \n",
    "\n",
    "  Following the method outlined in Moffitt *et al.* (2006), we can slightly enhance the resolution of our force signal. See the cited paper for more information.\n",
    "   \n",
    "3. **Subtract bead diameter.**\n",
    "\n",
    "  Instead of the distance from bead center to bead center, we need the tether length. This \"bead diameter subtraction\" was already taken care of in step I, though, and as such, we won't need to apply this correction again."
   ]
  },
  {
   "cell_type": "code",
   "execution_count": null,
   "metadata": {},
   "outputs": [],
   "source": [
    "# Load data file for actual experiment\n",
    "pull_data = pylake.File('example2.h5')"
   ]
  },
  {
   "cell_type": "code",
   "execution_count": null,
   "metadata": {},
   "outputs": [],
   "source": [
    "# Extract the data that we need:\n",
    "# 1. Trap 1 sensor data\n",
    "# 2. Force 2x high-resolution data\n",
    "# 3. Trap stiffness (\"kappa\", pN/nm)\n",
    "\n",
    "def get_calibration_value(file, force_id, key):\n",
    "    \"\"\"Extract a calibration value from the first available calibration's metadata\n",
    "    \n",
    "    Args:\n",
    "    - f (lumicks.pylake.File)\n",
    "    - force_id (str): name of the force channel (e.g., '1x', '2y')\n",
    "    - key (str): name of the calibration key\n",
    "    \"\"\"\n",
    "    calibration_info = file['Calibration']\n",
    "    first_calibration = calibration_info[list(calibration_info.h5.keys())[0]]\n",
    "    return first_calibration[f'Force {force_id}'].h5.attrs[key]\n",
    "\n",
    "def nm_to_um(x):\n",
    "    return 1e-3*x\n",
    "\n",
    "t_data = (pull_data.force2x.timestamps - pull_data.force2x.timestamps[0])/1e9\n",
    "\n",
    "# Differential force detection: combine force signals from traps 1 and 2.\n",
    "# The minus sign takes care of the different directions of both forces.\n",
    "orig_force_data = (pull_data.force1x.data - pull_data.force2x.data) / 2  # in [pN]\n",
    "sensor_data = pull_data['Trap Position']['Trap 1x'].data  # in [V]\n",
    "\n",
    "# Subtract force baseline\n",
    "force_data = orig_force_data - baseline_curve(sensor_data)\n",
    "\n",
    "trap_to_trap_dist = cal_fun(sensor_data)\n",
    "\n",
    "trap_stiffness = get_calibration_value(pull_data, '1x', 'kappa (pN/nm)')\n",
    "print(f'Trap stiffness: {trap_stiffness:.2f} pN/nm')\n",
    "tether_length = trap_to_trap_dist - 2*nm_to_um(force_data/trap_stiffness)"
   ]
  },
  {
   "cell_type": "code",
   "execution_count": null,
   "metadata": {},
   "outputs": [],
   "source": [
    "plt.figure(figsize=(8,6))\n",
    "plt.scatter(tether_length, force_data, s=1)\n",
    "plt.xlabel('Tether length $d$ (um)')\n",
    "plt.ylabel('Force (pN)')\n",
    "plt.show()"
   ]
  },
  {
   "cell_type": "code",
   "execution_count": null,
   "metadata": {
    "scrolled": true
   },
   "outputs": [],
   "source": [
    "plt.figure(figsize=(8,6))\n",
    "plt.title('Force baseline subtraction')\n",
    "plt.scatter(t_data, orig_force_data, s=2, label='Original data')\n",
    "plt.scatter(t_data, force_data, s=2, label='Corrected data')\n",
    "plt.xlabel('t (s)')\n",
    "plt.ylabel('$F_{2x}$ (pN)')\n",
    "plt.legend()\n",
    "plt.show()"
   ]
  },
  {
   "cell_type": "code",
   "execution_count": null,
   "metadata": {},
   "outputs": [],
   "source": [
    "def write_to_file(filename, headers, data_list):\n",
    "    new_list = []\n",
    "    for data in data_list:\n",
    "        new_list.append(data.reshape((len(data),1)))\n",
    "    to_write = np.concatenate(new_list, axis=1)\n",
    "    np.savetxt(filename, to_write, delimiter=',', header=headers)"
   ]
  },
  {
   "cell_type": "code",
   "execution_count": null,
   "metadata": {},
   "outputs": [],
   "source": [
    "write_to_file(filename='OutputFile2.csv', headers='length,time,Raw Force,Corrected Force',\n",
    "                     data_list = [tether_length, t_data, orig_force_data, force_data])"
   ]
  }
 ],
 "metadata": {
  "kernelspec": {
   "display_name": "Python 3",
   "language": "python",
   "name": "python3"
  },
  "language_info": {
   "codemirror_mode": {
    "name": "ipython",
    "version": 3
   },
   "file_extension": ".py",
   "mimetype": "text/x-python",
   "name": "python",
   "nbconvert_exporter": "python",
   "pygments_lexer": "ipython3",
   "version": "3.7.2"
  }
 },
 "nbformat": 4,
 "nbformat_minor": 2
}
