{
 "cells": [
  {
   "cell_type": "code",
   "execution_count": 2,
   "metadata": {
    "scrolled": true
   },
   "outputs": [
    {
     "name": "stdout",
     "output_type": "stream",
     "text": [
      "found 7 files in folder\n",
      "/mnt/d/OneDrive - Johns Hopkins University/Ha_CCarcamo/Data/Microscopes/C_Trap/2020-02-11 klenow lambda DNA/20200211-174231 Marker 1.h5\n",
      "/mnt/d/OneDrive - Johns Hopkins University/Ha_CCarcamo/Data/Microscopes/C_Trap/2020-02-11 klenow lambda DNA/20200211-174323 Marker 1.h5\n",
      "/mnt/d/OneDrive - Johns Hopkins University/Ha_CCarcamo/Data/Microscopes/C_Trap/2020-02-11 klenow lambda DNA/20200211-174326 Marker 2.h5\n",
      "/mnt/d/OneDrive - Johns Hopkins University/Ha_CCarcamo/Data/Microscopes/C_Trap/2020-02-11 klenow lambda DNA/20200211-174333 Marker 3.h5\n",
      "/mnt/d/OneDrive - Johns Hopkins University/Ha_CCarcamo/Data/Microscopes/C_Trap/2020-02-11 klenow lambda DNA/20200211-174338 Marker 4.h5\n",
      "/mnt/d/OneDrive - Johns Hopkins University/Ha_CCarcamo/Data/Microscopes/C_Trap/2020-02-11 klenow lambda DNA/20200211-174348 Marker 5.h5\n",
      "/mnt/d/OneDrive - Johns Hopkins University/Ha_CCarcamo/Data/Microscopes/C_Trap/2020-02-11 klenow lambda DNA/20200211-174350 Marker 6.h5\n"
     ]
    }
   ],
   "source": [
    "import numpy as np\n",
    "import matplotlib.pyplot as plt\n",
    "from lumicks import pylake\n",
    "import glob\n",
    "import scipy.io as sio\n",
    "import os\n",
    "directory = '/mnt/d/OneDrive - Johns Hopkins University/Ha_CCarcamo/Data/Microscopes/C_Trap/2020-02-11 klenow lambda DNA/'\n",
    "os.chdir(directory)\n",
    "files = glob.glob(directory + '*FD Curve*.h5')\n",
    "print(\"found {} files in folder\".format(len(files)))\n",
    "for file_name in files:\n",
    "    print(file_name)\n",
    "    file = pylake.File(file_name)"
   ]
  },
  {
   "cell_type": "code",
   "execution_count": 3,
   "metadata": {},
   "outputs": [
    {
     "data": {
      "text/plain": [
       "'/mnt/d/OneDrive - Johns Hopkins University/Ha_CCarcamo/Data/Microscopes/C_Trap/2020-02-11 klenow lambda DNA'"
      ]
     },
     "execution_count": 3,
     "metadata": {},
     "output_type": "execute_result"
    }
   ],
   "source": [
    "# pwd\n"
   ]
  },
  {
   "cell_type": "code",
   "execution_count": 10,
   "metadata": {},
   "outputs": [
    {
     "name": "stdout",
     "output_type": "stream",
     "text": [
      "found 7 files in folder\n",
      "/mnt/d/OneDrive - Johns Hopkins University/Ha_CCarcamo/Data/Microscopes/C_Trap/2020-02-11 klenow lambda DNA/20200211-174231 Marker 1.h5\n"
     ]
    },
    {
     "ename": "AttributeError",
     "evalue": "'File' object has no attribute 'start'",
     "output_type": "error",
     "traceback": [
      "\u001b[0;31m---------------------------------------------------------------------------\u001b[0m",
      "\u001b[0;31mAttributeError\u001b[0m                            Traceback (most recent call last)",
      "\u001b[0;32m<ipython-input-10-abb306a2ae4b>\u001b[0m in \u001b[0;36m<module>\u001b[0;34m\u001b[0m\n\u001b[1;32m     23\u001b[0m     \u001b[0mfdcurve\u001b[0m \u001b[0;34m=\u001b[0m \u001b[0mfile\u001b[0m\u001b[0;34m\u001b[0m\u001b[0;34m\u001b[0m\u001b[0m\n\u001b[1;32m     24\u001b[0m \u001b[0;31m#     fdcurve = file.fdcurves[key]\u001b[0m\u001b[0;34m\u001b[0m\u001b[0;34m\u001b[0m\u001b[0;34m\u001b[0m\u001b[0m\n\u001b[0;32m---> 25\u001b[0;31m     \u001b[0mstart\u001b[0m \u001b[0;34m=\u001b[0m \u001b[0mfdcurve\u001b[0m\u001b[0;34m.\u001b[0m\u001b[0mstart\u001b[0m\u001b[0;34m\u001b[0m\u001b[0;34m\u001b[0m\u001b[0m\n\u001b[0m\u001b[1;32m     26\u001b[0m     \u001b[0mstop\u001b[0m \u001b[0;34m=\u001b[0m \u001b[0mfdcurve\u001b[0m\u001b[0;34m.\u001b[0m\u001b[0mstop\u001b[0m\u001b[0;34m\u001b[0m\u001b[0;34m\u001b[0m\u001b[0m\n\u001b[1;32m     27\u001b[0m     \u001b[0msio\u001b[0m\u001b[0;34m.\u001b[0m\u001b[0msavemat\u001b[0m\u001b[0;34m(\u001b[0m\u001b[0;34mf\"{directory}start_dir/start_{key}_fdcurve.mat\"\u001b[0m\u001b[0;34m,\u001b[0m\u001b[0;34m{\u001b[0m\u001b[0;34m'start'\u001b[0m\u001b[0;34m:\u001b[0m\u001b[0mfile\u001b[0m\u001b[0;34m.\u001b[0m\u001b[0mfdcurves\u001b[0m\u001b[0;34m[\u001b[0m\u001b[0mkey\u001b[0m\u001b[0;34m]\u001b[0m\u001b[0;34m.\u001b[0m\u001b[0mstart\u001b[0m\u001b[0;34m}\u001b[0m\u001b[0;34m)\u001b[0m\u001b[0;34m\u001b[0m\u001b[0;34m\u001b[0m\u001b[0m\n",
      "\u001b[0;31mAttributeError\u001b[0m: 'File' object has no attribute 'start'"
     ]
    }
   ],
   "source": [
    "import numpy as np\n",
    "import matplotlib.pyplot as plt\n",
    "from lumicks import pylake\n",
    "import glob\n",
    "import scipy.io as sio\n",
    "# select the folder, here we search for .h5 files in the folder where you're running the script in\n",
    "directory = '/mnt/d/OneDrive - Johns Hopkins University/Ha_CCarcamo/Data/C_Trap/20200109 repeat array/'\n",
    "os.chdir(directory)\n",
    "os.mkdir('start_dir')\n",
    "os.mkdir('stop_dir')\n",
    "os.mkdir('distancedata_dir')\n",
    "os.mkdir('timestamps_dir')\n",
    "os.mkdir('forcedata_dir')\n",
    "os.mkdir('figures')\n",
    "    \n",
    "files = glob.glob(directory + '*FD Curve*.h5')\n",
    "print(\"found {} files in folder\".format(len(files)))\n",
    "for file_name in files:\n",
    "    print(file_name)\n",
    "    file = pylake.File(file_name)\n",
    "    key = list(file.fdcurves.keys())[0]\n",
    "    print(key)\n",
    "    fdcurve = file.fdcurves[key]\n",
    "    start = fdcurve.start\n",
    "    stop = fdcurve.stop\n",
    "    sio.savemat(f\"{directory}start_dir/start_{key}_fdcurve.mat\",{'start':file.fdcurves[key].start})\n",
    "    sio.savemat(f\"{directory}stop_dir/stop_{key}_fdcurve.mat\",{'stop':file.fdcurves[key].stop})\n",
    "    sio.savemat(f\"{directory}distancedata_dir/distancedata_{key}_fdcurve.mat\",{'d':file.fdcurves[key].d.data})\n",
    "    sio.savemat(f\"{directory}timestamps_dir/timestamps_{key}_fdcurve.mat\",{'timestamps':file.fdcurves[key].d.timestamps})\n",
    "    sio.savemat(f\"{directory}forcedata_dir/forcedata_{key}_fdcurve.mat\",{'f':file.fdcurves[key].f.data})\n",
    "#     sio.savemat(f\"{directory}downsampled_force1_{key}_fdcurve.mat\",{'downsampled_force1':file.fdcurves[key].downsampled_force1.y})\n",
    "#     sio.savemat(f\"{directory}downsampled_force1x_{key}_fdcurve.mat\",{'downsampled_force1x':file.fdcurves[key].downsampled_force1x})\n",
    "#     sio.savemat(f\"{directory}distance1_{key}_fdcurve.mat\",{'distance1':file.fdcurves[key].distance1})\n",
    "\n"
   ]
  },
  {
   "cell_type": "code",
   "execution_count": null,
   "metadata": {},
   "outputs": [],
   "source": [
    "import numpy as np\n",
    "import matplotlib.pyplot as plt\n",
    "from lumicks import pylake\n",
    "import glob\n",
    "import scipy.io as sio\n",
    "# select the folder, here we search for .h5 files in the folder where you're running the script in\n",
    "directory = '/mnt/d/OneDrive - Johns Hopkins University/Ha_CCarcamo/Data/C_Trap/BMH21 collaboration/2019-11-08 drug DNA properties pH 6point3/'\n",
    "os.chdir(directory)\n",
    "os.mkdir('start_dir')\n",
    "os.mkdir('stop_dir')\n",
    "os.mkdir('distancedata_dir')\n",
    "os.mkdir('timestamps_dir')\n",
    "os.mkdir('forcedata_dir')\n",
    "os.mkdir('figures')\n",
    "    \n",
    "files = glob.glob(directory + '*FD Curve*.h5')\n",
    "print(\"found {} files in folder\".format(len(files)))\n",
    "for file_name in files:\n",
    "    print(file_name)\n",
    "    file = pylake.File(file_name)\n",
    "    key = list(file.fdcurves.keys())[0]\n",
    "    print(key)\n",
    "    fdcurve = file.fdcurves[key]\n",
    "    start = fdcurve.start\n",
    "    stop = fdcurve.stop\n",
    "    sio.savemat(f\"{directory}start_dir/start_{key}_fdcurve.mat\",{'start':file.fdcurves[key].start})\n",
    "    sio.savemat(f\"{directory}stop_dir/stop_{key}_fdcurve.mat\",{'stop':file.fdcurves[key].stop})\n",
    "    sio.savemat(f\"{directory}distancedata_dir/distancedata_{key}_fdcurve.mat\",{'d':file.fdcurves[key].d.data})\n",
    "    sio.savemat(f\"{directory}timestamps_dir/timestamps_{key}_fdcurve.mat\",{'timestamps':file.fdcurves[key].d.timestamps})\n",
    "    sio.savemat(f\"{directory}forcedata_dir/forcedata_{key}_fdcurve.mat\",{'f':file.fdcurves[key].f.data})\n",
    "#     sio.savemat(f\"{directory}downsampled_force1_{key}_fdcurve.mat\",{'downsampled_force1':file.fdcurves[key].downsampled_force1.y})\n",
    "#     sio.savemat(f\"{directory}downsampled_force1x_{key}_fdcurve.mat\",{'downsampled_force1x':file.fdcurves[key].downsampled_force1x})\n",
    "#     sio.savemat(f\"{directory}distance1_{key}_fdcurve.mat\",{'distance1':file.fdcurves[key].distance1})\n",
    "\n"
   ]
  },
  {
   "cell_type": "code",
   "execution_count": 5,
   "metadata": {},
   "outputs": [
    {
     "name": "stdout",
     "output_type": "stream",
     "text": [
      "SUPPORTED_FILE_FORMAT_VERSIONS\n",
      "__class__\n",
      "__delattr__\n",
      "__dict__\n",
      "__dir__\n",
      "__doc__\n",
      "__eq__\n",
      "__format__\n",
      "__ge__\n",
      "__getattribute__\n",
      "__getitem__\n",
      "__gt__\n",
      "__hash__\n",
      "__init__\n",
      "__init_subclass__\n",
      "__le__\n",
      "__lt__\n",
      "__module__\n",
      "__ne__\n",
      "__new__\n",
      "__reduce__\n",
      "__reduce_ex__\n",
      "__repr__\n",
      "__setattr__\n",
      "__sizeof__\n",
      "__str__\n",
      "__subclasshook__\n",
      "__weakref__\n",
      "_check_file_format\n",
      "_get_distance\n",
      "_get_downsampled_force\n",
      "_get_force\n",
      "_get_photon_count\n",
      "_get_photon_time_tags\n",
      "blue_photon_count\n",
      "blue_photon_time_tags\n",
      "bluelake_version\n",
      "description\n",
      "distance1\n",
      "distance2\n",
      "downsampled_force1\n",
      "downsampled_force1x\n",
      "downsampled_force1y\n",
      "downsampled_force2\n",
      "downsampled_force2x\n",
      "downsampled_force2y\n",
      "downsampled_force3\n",
      "downsampled_force3x\n",
      "downsampled_force3y\n",
      "downsampled_force4\n",
      "downsampled_force4x\n",
      "downsampled_force4y\n",
      "experiment\n",
      "export_time\n",
      "fdcurves\n",
      "force1x\n",
      "force1y\n",
      "force2x\n",
      "force2y\n",
      "force3x\n",
      "force3y\n",
      "force4x\n",
      "force4y\n",
      "format_version\n",
      "from_h5py\n",
      "green_photon_count\n",
      "green_photon_time_tags\n",
      "guid\n",
      "h5\n",
      "kymos\n",
      "point_scans\n",
      "red_photon_count\n",
      "red_photon_time_tags\n",
      "scans\n"
     ]
    }
   ],
   "source": [
    "for x in dir(file):\n",
    "    print(x)\n"
   ]
  }
 ],
 "metadata": {
  "kernelspec": {
   "display_name": "Python 3",
   "language": "python",
   "name": "python3"
  },
  "language_info": {
   "codemirror_mode": {
    "name": "ipython",
    "version": 3
   },
   "file_extension": ".py",
   "mimetype": "text/x-python",
   "name": "python",
   "nbconvert_exporter": "python",
   "pygments_lexer": "ipython3",
   "version": "3.6.7"
  }
 },
 "nbformat": 4,
 "nbformat_minor": 2
}
