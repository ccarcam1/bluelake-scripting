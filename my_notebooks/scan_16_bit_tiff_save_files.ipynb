{
 "cells": [
  {
   "cell_type": "code",
   "execution_count": 77,
   "metadata": {},
   "outputs": [],
   "source": [
    "import numpy as np\n",
    "import matplotlib.pyplot as plt\n",
    "\n",
    "from lumicks import pylake\n",
    "\n",
    "%matplotlib inline"
   ]
  },
  {
   "cell_type": "code",
   "execution_count": 78,
   "metadata": {},
   "outputs": [
    {
     "name": "stdout",
     "output_type": "stream",
     "text": [
      "found 6 files in folder\n",
      "../data/2019-03-29 trap training/20190328-190753 1mM Spermine 1uM DNA Scan 19.h5\n",
      "../data/2019-03-29 trap training/20190328-191346 1mM Spermine 1uM DNA Scan 19.h5\n",
      "../data/2019-03-29 trap training/20190328-191353 1mM Spermine 1uM DNA Scan 18.h5\n",
      "../data/2019-03-29 trap training/20190328-201848 1mM Spermine 1uM DNA Scan 17.h5\n",
      "../data/2019-03-29 trap training/20190328-201941 1mM Spermine 1uM DNA Scan 16.h5\n",
      "../data/2019-03-29 trap training/20190328-202045 1mM Spermine 1uM DNA Scan 15.h5\n"
     ]
    }
   ],
   "source": [
    "import glob\n",
    "\n",
    "# select the folder, here we search for .h5 files in the folder where you're running the script in\n",
    "\n",
    "files = glob.glob('../data/2019-03-29 trap training/*Scan*.h5')\n",
    "print(\"found {} files in folder\".format(len(files)))\n",
    "\n",
    "# I am trying to write a loop so that I can input all the scans in a file and convert them to 16-bit\n",
    "# tiff files(ccc)\n",
    "\n",
    "for file_name in files:\n",
    "    print(file_name)\n",
    "    file = pylake.File(file_name)\n",
    "    key = list(file.scans.keys())[0]\n",
    "    scan = file.scans[key]\n",
    "    #scan.save_tiff(file_name[:-3] + \"scan\" + key + \".tiff\", dtype=np.float16)\n",
    "    scan.save_tiff(file_name[:-3] + \".tiff\", dtype=np.float16)"
   ]
  },
  {
   "cell_type": "code",
   "execution_count": null,
   "metadata": {},
   "outputs": [],
   "source": []
  }
 ],
 "metadata": {
  "kernelspec": {
   "display_name": "Python 3",
   "language": "python",
   "name": "python3"
  },
  "language_info": {
   "codemirror_mode": {
    "name": "ipython",
    "version": 3
   },
   "file_extension": ".py",
   "mimetype": "text/x-python",
   "name": "python",
   "nbconvert_exporter": "python",
   "pygments_lexer": "ipython3",
   "version": "3.6.7"
  }
 },
 "nbformat": 4,
 "nbformat_minor": 2
}
