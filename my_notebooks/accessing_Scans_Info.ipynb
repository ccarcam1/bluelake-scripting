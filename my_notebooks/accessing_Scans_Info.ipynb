{
 "cells": [
  {
   "cell_type": "code",
   "execution_count": 1,
   "metadata": {},
   "outputs": [],
   "source": [
    "import matplotlib.pyplot as plt\n",
    "import numpy as np\n",
    "from lumicks import pylake\n",
    "import glob\n",
    "import string\n",
    "\n",
    "%matplotlib inline"
   ]
  },
  {
   "cell_type": "code",
   "execution_count": 2,
   "metadata": {},
   "outputs": [
    {
     "name": "stdout",
     "output_type": "stream",
     "text": [
      "found 18 files in folder\n",
      "/mnt/d/ctrap/data/2019-06-11/20190611-170531 SWR1 250pM Kymograph DNA 1.h5\n",
      "/mnt/d/ctrap/data/2019-06-11/20190611-170537 SWR1 250pM Kymograph DNA 2.h5\n",
      "/mnt/d/ctrap/data/2019-06-11/20190611-170542 SWR1 250pM Kymograph DNA 3.h5\n",
      "/mnt/d/ctrap/data/2019-06-11/20190611-170544 SWR1 250pM Kymograph DNA 4.h5\n",
      "/mnt/d/ctrap/data/2019-06-11/20190611-170548 SWR1 250pM Kymograph DNA 5 movement.h5\n",
      "/mnt/d/ctrap/data/2019-06-11/20190611-170550 SWR1 250pM Kymograph DNA 6 movement.h5\n",
      "/mnt/d/ctrap/data/2019-06-11/20190611-170552 SWR1 250pM Kymograph DNA 7.h5\n",
      "/mnt/d/ctrap/data/2019-06-11/20190611-170553 SWR1 250pM Kymograph DNA 8.h5\n",
      "/mnt/d/ctrap/data/2019-06-11/20190611-170555 SWR1 250pM Kymograph DNA 8 2.h5\n",
      "/mnt/d/ctrap/data/2019-06-11/20190611-170558 SWR1 250pM Kymograph DNA 9.h5\n",
      "/mnt/d/ctrap/data/2019-06-11/20190611-170601 SWR1 250pM Kymograph DNA 9 2.h5\n",
      "/mnt/d/ctrap/data/2019-06-11/20190611-170602 SWR1 250pM Kymograph DNA 10 first half.h5\n",
      "/mnt/d/ctrap/data/2019-06-11/20190611-170605 SWR1 250pM Kymograph DNA 10 second half.h5\n",
      "/mnt/d/ctrap/data/2019-06-11/20190611-170608 SWR1 250pM Kymograph DNA 11.h5\n",
      "/mnt/d/ctrap/data/2019-06-11/20190611-170612 SWR1 250pM Kymograph DNA 11 2.h5\n",
      "/mnt/d/ctrap/data/2019-06-11/20190611-170614 SWR1 250pM Kymograph DNA 11 3.h5\n",
      "/mnt/d/ctrap/data/2019-06-11/20190611-170616 SWR1 250pM Kymograph DNA 11 4.h5\n",
      "/mnt/d/ctrap/data/2019-06-11/20190611-170618 SWR1 250pM Kymograph DNA 11 5.h5\n"
     ]
    }
   ],
   "source": [
    "#get list of all files in folder\n",
    "\n",
    "files = glob.glob(r'/mnt/d/ctrap/data/2019-06-11/*Kymograph*.h5') #skip the power spectra\n",
    "print(\"found {} files in folder\".format(len(files)))\n",
    "for file in files:\n",
    "    print(file)"
   ]
  },
  {
   "cell_type": "code",
   "execution_count": 3,
   "metadata": {},
   "outputs": [
    {
     "name": "stdout",
     "output_type": "stream",
     "text": [
      "/mnt/d/ctrap/data/2019-06-11\n"
     ]
    }
   ],
   "source": [
    " cd /mnt/d/ctrap/data/2019-06-11/"
   ]
  },
  {
   "cell_type": "code",
   "execution_count": 14,
   "metadata": {},
   "outputs": [],
   "source": [
    "for filename in files:\n",
    "    file = pylake.File(filename)\n",
    "    for name, scan_or_kymo in file.scans.items(): #or in file.kymos.items():\n",
    "        filename_without_extension = file.h5.filename.replace(\".h5\", \"\")  # \"file.h5\" -> \"file\"\n",
    "        filename = filename_without_extension + \"_\" + name + \".tiff\"\n",
    "#         filename = \"{}_{}.tiff\".format(filename_without_extension, name)\n",
    "        scan_or_kymo.save_tiff(filename)"
   ]
  },
  {
   "cell_type": "code",
   "execution_count": 13,
   "metadata": {},
   "outputs": [],
   "source": [
    "# file = pylake.File(files[0])\n",
    "# scan = file.scans['27']\n",
    "\n",
    "# or try:\n",
    "# scan = list(file.scans)[0]\n",
    "# scan = file.scans[scan]\n",
    "\n",
    "kymos = list(file.kymos)\n",
    "kymo = file.kymos[kymos[0]]"
   ]
  },
  {
   "cell_type": "code",
   "execution_count": 44,
   "metadata": {},
   "outputs": [
    {
     "data": {
      "text/plain": [
       "lumicks.pylake.kymo.Kymo"
      ]
     },
     "execution_count": 44,
     "metadata": {},
     "output_type": "execute_result"
    }
   ],
   "source": [
    "np.unique(kymo.green_image)\n"
   ]
  },
  {
   "cell_type": "code",
   "execution_count": null,
   "metadata": {},
   "outputs": [],
   "source": []
  },
  {
   "cell_type": "code",
   "execution_count": null,
   "metadata": {},
   "outputs": [],
   "source": []
  },
  {
   "cell_type": "code",
   "execution_count": null,
   "metadata": {},
   "outputs": [],
   "source": []
  },
  {
   "cell_type": "code",
   "execution_count": null,
   "metadata": {},
   "outputs": [],
   "source": [
    "\n"
   ]
  },
  {
   "cell_type": "code",
   "execution_count": null,
   "metadata": {},
   "outputs": [],
   "source": [
    "\n"
   ]
  },
  {
   "cell_type": "code",
   "execution_count": null,
   "metadata": {},
   "outputs": [],
   "source": []
  },
  {
   "cell_type": "code",
   "execution_count": null,
   "metadata": {},
   "outputs": [],
   "source": []
  },
  {
   "cell_type": "code",
   "execution_count": null,
   "metadata": {},
   "outputs": [],
   "source": [
    "\n"
   ]
  },
  {
   "cell_type": "code",
   "execution_count": null,
   "metadata": {},
   "outputs": [],
   "source": []
  },
  {
   "cell_type": "code",
   "execution_count": null,
   "metadata": {},
   "outputs": [],
   "source": []
  },
  {
   "cell_type": "code",
   "execution_count": null,
   "metadata": {},
   "outputs": [],
   "source": []
  },
  {
   "cell_type": "code",
   "execution_count": null,
   "metadata": {},
   "outputs": [],
   "source": []
  },
  {
   "cell_type": "code",
   "execution_count": null,
   "metadata": {},
   "outputs": [],
   "source": []
  },
  {
   "cell_type": "code",
   "execution_count": null,
   "metadata": {},
   "outputs": [],
   "source": []
  }
 ],
 "metadata": {
  "kernelspec": {
   "display_name": "Python 3",
   "language": "python",
   "name": "python3"
  },
  "language_info": {
   "codemirror_mode": {
    "name": "ipython",
    "version": 3
   },
   "file_extension": ".py",
   "mimetype": "text/x-python",
   "name": "python",
   "nbconvert_exporter": "python",
   "pygments_lexer": "ipython3",
   "version": "3.6.7"
  }
 },
 "nbformat": 4,
 "nbformat_minor": 2
}
