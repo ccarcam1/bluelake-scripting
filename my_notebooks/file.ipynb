{
 "cells": [
  {
   "cell_type": "code",
   "execution_count": 1,
   "metadata": {},
   "outputs": [],
   "source": [
    "import numpy as np\n",
    "import matplotlib.pyplot as plt\n",
    "\n",
    "from lumicks import pylake\n",
    "\n",
    "%matplotlib inline"
   ]
  },
  {
   "cell_type": "code",
   "execution_count": 30,
   "metadata": {},
   "outputs": [
    {
     "name": "stdout",
     "output_type": "stream",
     "text": [
      "\u001b[0m\u001b[01;32m'20190418-180501 Marker 1.h5'\u001b[0m*\r\n",
      "\u001b[01;32m'20190418-180501 Marker 2.h5'\u001b[0m*\r\n",
      "\u001b[01;32m'20190418-180501 Marker first session marker 1.h5'\u001b[0m*\r\n",
      "\u001b[01;32m'20190418-180501 Marker first session marker 2.h5'\u001b[0m*\r\n",
      "\u001b[01;32m'20190418-183542 polybiotin DNA capture Marker 1.h5'\u001b[0m*\r\n",
      "\u001b[01;32m'20190418-183624 polybiotin DNA capture Marker 2.h5'\u001b[0m*\r\n",
      "\u001b[01;32m'20190418-183644 polybiotin DNA capture Calibration 12.h5'\u001b[0m*\r\n",
      "\u001b[01;32m'20190418-183645 polybiotin DNA capture Calibration 11.h5'\u001b[0m*\r\n",
      "\u001b[01;32m'20190418-183648 polybiotin DNA capture Calibration 10.h5'\u001b[0m*\r\n",
      "\u001b[01;32m'20190418-184231 polybiotin DNA capture Marker second session marker 1.h5'\u001b[0m*\r\n",
      "\u001b[01;32m'20190418-184234 polybiotin DNA capture Marker second session marker 2.h5'\u001b[0m*\r\n",
      " \u001b[34;42mavi\u001b[0m/\r\n"
     ]
    }
   ],
   "source": [
    "ls"
   ]
  },
  {
   "cell_type": "markdown",
   "metadata": {},
   "source": [
    "# Files and channels\n",
    "\n",
    "[Download this page as a Jupyter notebook](_downloads/9b699a876edcd6b0679816cf1aa011af/file.ipynb)\n",
    "\n",
    "Opening a Bluelake HDF5 file is very simple:"
   ]
  },
  {
   "cell_type": "code",
   "execution_count": 31,
   "metadata": {},
   "outputs": [],
   "source": [
    "from lumicks import pylake\n",
    "\n",
    "file = pylake.File(\"20190418-180501 Marker first session marker 2.h5\")"
   ]
  },
  {
   "cell_type": "markdown",
   "metadata": {},
   "source": [
    "## Contents\n",
    "\n",
    "To see a textual representation of the contents of a file:"
   ]
  },
  {
   "cell_type": "code",
   "execution_count": 32,
   "metadata": {},
   "outputs": [
    {
     "name": "stdout",
     "output_type": "stream",
     "text": [
      "File root metadata:\n",
      "- Bluelake version: 1.5.5\n",
      "- Description: \n",
      "- Experiment: \n",
      "- Export time (ns): 1555625101148241500\n",
      "- File format version: 2\n",
      "- GUID: {06AD9EA7-50AC-4AA4-AE4E-DFB1FE85C84B}\n",
      "\n",
      "Bead diameter:\n",
      "  Template 1:\n",
      "  - Data type: [('Timestamp', '<i8'), ('Value', '<f8')]\n",
      "  - Size: 100\n",
      "  Template 2:\n",
      "  - Data type: [('Timestamp', '<i8'), ('Value', '<f8')]\n",
      "  - Size: 100\n",
      "Bead position:\n",
      "  Bead 1 X:\n",
      "  - Data type: [('Timestamp', '<i8'), ('Value', '<f8')]\n",
      "  - Size: 100\n",
      "  Bead 1 Y:\n",
      "  - Data type: [('Timestamp', '<i8'), ('Value', '<f8')]\n",
      "  - Size: 100\n",
      "  Bead 2 X:\n",
      "  - Data type: [('Timestamp', '<i8'), ('Value', '<f8')]\n",
      "  - Size: 100\n",
      "  Bead 2 Y:\n",
      "  - Data type: [('Timestamp', '<i8'), ('Value', '<f8')]\n",
      "  - Size: 100\n",
      "Calibration:\n",
      "  7:\n",
      "    Force 1x\n",
      "    Force 1y\n",
      "    Force 2x\n",
      "    Force 2y\n",
      "    JSON:\n",
      "    - Data type: object\n",
      "    - Size: 1\n",
      "Diagnostics:\n",
      "  Bright-field LED:\n",
      "  - Data type: [('Timestamp', '<i8'), ('Value', '<f8')]\n",
      "  - Size: 0\n",
      "  Microstage position X:\n",
      "  - Data type: [('Timestamp', '<i8'), ('Value', '<f8')]\n",
      "  - Size: 6\n",
      "  Microstage position Y:\n",
      "  - Data type: [('Timestamp', '<i8'), ('Value', '<f8')]\n",
      "  - Size: 6\n",
      "  Pressure:\n",
      "  - Data type: [('Timestamp', '<i8'), ('Value', '<f8')]\n",
      "  - Size: 6\n",
      "  Shutter 1:\n",
      "  - Data type: [('Timestamp', '<i8'), ('Value', 'u1')]\n",
      "  - Size: 0\n",
      "  Shutter 2:\n",
      "  - Data type: [('Timestamp', '<i8'), ('Value', 'u1')]\n",
      "  - Size: 0\n",
      "  Trap power 1:\n",
      "  - Data type: float64\n",
      "  - Size: 515454\n",
      "  Trap power 2:\n",
      "  - Data type: float64\n",
      "  - Size: 515454\n",
      "  Trapping Laser:\n",
      "  - Data type: [('Timestamp', '<i8'), ('Value', '<f8')]\n",
      "  - Size: 8\n",
      "Distance:\n",
      "  Distance 1:\n",
      "  - Data type: [('Timestamp', '<i8'), ('Value', '<f8')]\n",
      "  - Size: 100\n",
      "Fluidics:\n",
      "  Valve 1:\n",
      "  - Data type: [('Timestamp', '<i8'), ('Value', 'u1')]\n",
      "  - Size: 0\n",
      "  Valve 2:\n",
      "  - Data type: [('Timestamp', '<i8'), ('Value', 'u1')]\n",
      "  - Size: 0\n",
      "  Valve 3:\n",
      "  - Data type: [('Timestamp', '<i8'), ('Value', 'u1')]\n",
      "  - Size: 0\n",
      "  Valve 4:\n",
      "  - Data type: [('Timestamp', '<i8'), ('Value', 'u1')]\n",
      "  - Size: 0\n",
      "  Valve 5:\n",
      "  - Data type: [('Timestamp', '<i8'), ('Value', 'u1')]\n",
      "  - Size: 0\n",
      "  Valve 6:\n",
      "  - Data type: [('Timestamp', '<i8'), ('Value', 'u1')]\n",
      "  - Size: 0\n",
      "Force HF:\n",
      "  Force 1x:\n",
      "  - Data type: float64\n",
      "  - Size: 515454\n",
      "  Force 1y:\n",
      "  - Data type: float64\n",
      "  - Size: 515454\n",
      "  Force 2x:\n",
      "  - Data type: float64\n",
      "  - Size: 515454\n",
      "  Force 2y:\n",
      "  - Data type: float64\n",
      "  - Size: 515454\n",
      "Force LF:\n",
      "  Force 1x:\n",
      "  - Data type: [('Timestamp', '<i8'), ('Value', '<f8')]\n",
      "  - Size: 100\n",
      "  Force 1y:\n",
      "  - Data type: [('Timestamp', '<i8'), ('Value', '<f8')]\n",
      "  - Size: 100\n",
      "  Force 2x:\n",
      "  - Data type: [('Timestamp', '<i8'), ('Value', '<f8')]\n",
      "  - Size: 100\n",
      "  Force 2y:\n",
      "  - Data type: [('Timestamp', '<i8'), ('Value', '<f8')]\n",
      "  - Size: 100\n",
      "  Trap 1:\n",
      "  - Data type: [('Timestamp', '<i8'), ('Value', '<f8')]\n",
      "  - Size: 100\n",
      "  Trap 2:\n",
      "  - Data type: [('Timestamp', '<i8'), ('Value', '<f8')]\n",
      "  - Size: 100\n",
      "Force clamp:\n",
      "  Command:\n",
      "  - Data type: [('Timestamp', '<i8'), ('Value', '<f8')]\n",
      "  - Size: 0\n",
      "  Error:\n",
      "  - Data type: [('Timestamp', '<i8'), ('Value', '<f8')]\n",
      "  - Size: 0\n",
      "Marker:\n",
      "  first session marker 2:\n",
      "  - Data type: object\n",
      "  - Size: 1\n",
      "Photon count:\n",
      "  Red:\n",
      "  - Data type: uint32\n",
      "  - Size: 515454\n",
      "Power controls:\n",
      "  Overall power:\n",
      "  - Data type: [('Timestamp', '<i8'), ('Value', '<f8')]\n",
      "  - Size: 9\n",
      "  Trap 1 split:\n",
      "  - Data type: [('Timestamp', '<i8'), ('Value', '<f8')]\n",
      "  - Size: 3\n",
      "Tracking Match Score:\n",
      "  Bead 1:\n",
      "  - Data type: [('Timestamp', '<i8'), ('Value', '<f8')]\n",
      "  - Size: 100\n",
      "  Bead 2:\n",
      "  - Data type: [('Timestamp', '<i8'), ('Value', '<f8')]\n",
      "  - Size: 100\n",
      "Trap position:\n",
      "  1X:\n",
      "  - Data type: float64\n",
      "  - Size: 515454\n",
      "  1Y:\n",
      "  - Data type: float64\n",
      "  - Size: 515454\n",
      "\n"
     ]
    }
   ],
   "source": [
    "print(file)"
   ]
  },
  {
   "cell_type": "markdown",
   "metadata": {},
   "source": [
    "For a listing of more specific timeline items:"
   ]
  },
  {
   "cell_type": "code",
   "execution_count": 34,
   "metadata": {},
   "outputs": [
    {
     "data": {
      "text/plain": [
       "[]"
      ]
     },
     "execution_count": 34,
     "metadata": {},
     "output_type": "execute_result"
    }
   ],
   "source": [
    "list(file.scans)"
   ]
  },
  {
   "cell_type": "code",
   "execution_count": 35,
   "metadata": {},
   "outputs": [
    {
     "data": {
      "text/plain": [
       "[]"
      ]
     },
     "execution_count": 35,
     "metadata": {},
     "output_type": "execute_result"
    }
   ],
   "source": [
    "list(file.kymos)"
   ]
  },
  {
   "cell_type": "markdown",
   "metadata": {},
   "source": [
    "They can also be printed to get more information:"
   ]
  },
  {
   "cell_type": "code",
   "execution_count": 36,
   "metadata": {},
   "outputs": [
    {
     "name": "stdout",
     "output_type": "stream",
     "text": [
      "{}\n"
     ]
    }
   ],
   "source": [
    "print(file.scans)"
   ]
  },
  {
   "cell_type": "markdown",
   "metadata": {},
   "source": [
    "## Channels\n",
    "\n",
    "Just like the Bluelake timeline, exported HDF5 files contain multiple channels of data. They can be easily accessed as shown below:"
   ]
  },
  {
   "cell_type": "code",
   "execution_count": 37,
   "metadata": {},
   "outputs": [
    {
     "data": {
      "image/png": "[encoded data removed]",
      "text/plain": [
       "<Figure size 432x288 with 1 Axes>"
      ]
     },
     "metadata": {
      "needs_background": "light"
     },
     "output_type": "display_data"
    }
   ],
   "source": [
    "file.force1x.plot()\n",
    "plt.savefig(\"force1x.png\")"
   ]
  },
  {
   "cell_type": "markdown",
   "metadata": {},
   "source": [
    "The channels have a few convenient methods, like `.plot()` which make it easy to preview the contents, but you can also always access the raw data directly:"
   ]
  },
  {
   "cell_type": "code",
   "execution_count": 38,
   "metadata": {},
   "outputs": [
    {
     "data": {
      "text/plain": [
       "[<matplotlib.lines.Line2D at 0x7f2e2ca82470>]"
      ]
     },
     "execution_count": 38,
     "metadata": {},
     "output_type": "execute_result"
    },
    {
     "data": {
      "image/png": "[encoded data removed]",
      "text/plain": [
       "<Figure size 432x288 with 1 Axes>"
      ]
     },
     "metadata": {
      "needs_background": "light"
     },
     "output_type": "display_data"
    }
   ],
   "source": [
    "f1x_data = file.force1x.data\n",
    "f1x_timestamps = file.force1x.timestamps\n",
    "plt.plot(f1x_timestamps, f1x_data)"
   ]
  },
  {
   "cell_type": "markdown",
   "metadata": {},
   "source": [
    "The above examples use the `force1x` channel. A full list of available channels can be found on the [`File`](tutorial/../_api/lumicks.pylake.File.html#lumicks.pylake.File) reference page.\n",
    "\n",
    "By default, entire channels are returned from a file:"
   ]
  },
  {
   "cell_type": "code",
   "execution_count": 39,
   "metadata": {},
   "outputs": [
    {
     "data": {
      "image/png": "[encoded data removed]",
      "text/plain": [
       "<Figure size 432x288 with 1 Axes>"
      ]
     },
     "metadata": {
      "needs_background": "light"
     },
     "output_type": "display_data"
    }
   ],
   "source": [
    "everything = file.force1x\n",
    "everything.plot()"
   ]
  },
  {
   "cell_type": "markdown",
   "metadata": {},
   "source": [
    "But channels can easily be sliced:"
   ]
  },
  {
   "cell_type": "code",
   "execution_count": 40,
   "metadata": {},
   "outputs": [
    {
     "data": {
      "image/png": "[encoded data removed]",
      "text/plain": [
       "<Figure size 432x288 with 1 Axes>"
      ]
     },
     "metadata": {
      "needs_background": "light"
     },
     "output_type": "display_data"
    }
   ],
   "source": [
    "# Get the data between 1 and 1.5 seconds\n",
    "part = file.force1x['1s':'1.5s']\n",
    "part.plot()\n",
    "\n",
    "# Or manually\n",
    "f1x_data = part.data\n",
    "f1x_timestamps = part.timestamps\n",
    "plt.plot(f1x_timestamps, f1x_data)\n",
    "\n",
    "# More slicing examples\n",
    "a = file.force1x[:'-5s']  # everything except the last 5 seconds\n",
    "b = file.force1x['-1m':]  # take the last minute\n",
    "c = file.force1x['-1m':'-500ms']  # last minute except the last 0.5 seconds\n",
    "d = file.force1x['1.2s':'-4s']  # between 1.2 seconds and 4 seconds from the end\n",
    "e = file.force1x['5.7m':'1h 40m']  # 5.7 minutes to an hour and 40 minutes\n",
    "\n",
    "# Subslicing is also possible\n",
    "a = file.force1x['1s':]  # from 1 second to the end of the file\n",
    "b = a['1s':]  # 1 second relative to the start of slice `a`\n",
    "              # --> `b` starts at 2 seconds relative to the beginning of the file"
   ]
  },
  {
   "cell_type": "code",
   "execution_count": 41,
   "metadata": {},
   "outputs": [
    {
     "data": {
      "image/png": "[encoded data removed]",
      "text/plain": [
       "<Figure size 432x288 with 1 Axes>"
      ]
     },
     "metadata": {
      "needs_background": "light"
     },
     "output_type": "display_data"
    }
   ],
   "source": [
    "# Get the data between 1 and 1.5 seconds\n",
    "part = file.force1x['1s':'1.5s']\n",
    "part.plot()"
   ]
  },
  {
   "cell_type": "code",
   "execution_count": 42,
   "metadata": {},
   "outputs": [
    {
     "data": {
      "text/plain": [
       "[<matplotlib.lines.Line2D at 0x7f2e2c8ffdd8>]"
      ]
     },
     "execution_count": 42,
     "metadata": {},
     "output_type": "execute_result"
    },
    {
     "data": {
      "image/png": "[encoded data removed]",
      "text/plain": [
       "<Figure size 432x288 with 1 Axes>"
      ]
     },
     "metadata": {
      "needs_background": "light"
     },
     "output_type": "display_data"
    }
   ],
   "source": [
    "# Or manually\n",
    "f1x_data = part.data\n",
    "f1x_timestamps = part.timestamps\n",
    "plt.plot(f1x_timestamps, f1x_data)"
   ]
  },
  {
   "cell_type": "markdown",
   "metadata": {},
   "source": [
    "Note that channels are indexed in time units using numbers with suffixes. The possible suffixes are d, h, m, s, ms, us, ns, corresponding to day, hour, minute, second, millisecond, microsecond and nanosecond. This indexing only applies to channels slices. Once you access the raw data, those are regular arrays which use regular array indexing:"
   ]
  },
  {
   "cell_type": "code",
   "execution_count": null,
   "metadata": {},
   "outputs": [],
   "source": [
    "channel_slice = file.force1x['1.5s':'20s']  # timestamps\n",
    "data_slice = file.force1x.data[20:40]  # indices into the array"
   ]
  }
 ],
 "metadata": {
  "kernelspec": {
   "display_name": "Python 3",
   "language": "python",
   "name": "python3"
  },
  "language_info": {
   "codemirror_mode": {
    "name": "ipython",
    "version": 3
   },
   "file_extension": ".py",
   "mimetype": "text/x-python",
   "name": "python",
   "nbconvert_exporter": "python",
   "pygments_lexer": "ipython3",
   "version": "3.6.7"
  }
 },
 "nbformat": 4,
 "nbformat_minor": 2
}
