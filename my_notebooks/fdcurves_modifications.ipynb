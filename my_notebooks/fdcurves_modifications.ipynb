{
 "cells": [
  {
   "cell_type": "code",
   "execution_count": 1,
   "metadata": {},
   "outputs": [],
   "source": [
    "import numpy as np\n",
    "import matplotlib.pyplot as plt\n",
    "\n",
    "from lumicks import pylake\n",
    "\n",
    "%matplotlib inline"
   ]
  },
  {
   "cell_type": "code",
   "execution_count": 9,
   "metadata": {},
   "outputs": [
    {
     "name": "stdout",
     "output_type": "stream",
     "text": [
      "/mnt/d/ctrap/data/2019-04-26 lumicks lambda and spermine 3\n"
     ]
    }
   ],
   "source": [
    "cd /mnt/d/ctrap/data/2019-04-26\\ lumicks\\ lambda\\ and\\ spermine\\ 3"
   ]
  },
  {
   "cell_type": "markdown",
   "metadata": {},
   "source": [
    "# FD curves\n",
    "\n",
    "[Download this page as a Jupyter notebook](_downloads/6f57fb1b6e284fa9ce420e0488c35a31/fdcurves.ipynb)\n",
    "\n",
    "The following code loads an HDF5 file and lists all of the FD curves inside of it:"
   ]
  },
  {
   "cell_type": "code",
   "execution_count": 13,
   "metadata": {},
   "outputs": [
    {
     "data": {
      "text/plain": [
       "[]"
      ]
     },
     "execution_count": 13,
     "metadata": {},
     "output_type": "execute_result"
    }
   ],
   "source": [
    "from lumicks import pylake\n",
    "file = pylake.File(\"20190426-165707 Marker 25.h5\")\n",
    "list(file.fdcurves)  # e.g. shows: \"['baseline', '1', '2']\""
   ]
  },
  {
   "cell_type": "markdown",
   "metadata": {},
   "source": [
    "To visualizes an FD curve, you can use the built-in `.plot_scatter()` function:"
   ]
  },
  {
   "cell_type": "code",
   "execution_count": 17,
   "metadata": {},
   "outputs": [
    {
     "name": "stdout",
     "output_type": "stream",
     "text": [
      "\u001b[0m\u001b[34;42m'2019-03-29 trap training'\u001b[0m/   \u001b[34;42m2019-04-18\u001b[0m/\r\n"
     ]
    }
   ],
   "source": []
  },
  {
   "cell_type": "code",
   "execution_count": 14,
   "metadata": {},
   "outputs": [
    {
     "ename": "KeyError",
     "evalue": "'baseline'",
     "output_type": "error",
     "traceback": [
      "\u001b[0;31m---------------------------------------------------------------------------\u001b[0m",
      "\u001b[0;31mKeyError\u001b[0m                                  Traceback (most recent call last)",
      "\u001b[0;32m<ipython-input-14-1b3fb72f003c>\u001b[0m in \u001b[0;36m<module>\u001b[0;34m\u001b[0m\n\u001b[1;32m      1\u001b[0m \u001b[0;31m# Pick a single FD curve\u001b[0m\u001b[0;34m\u001b[0m\u001b[0;34m\u001b[0m\u001b[0;34m\u001b[0m\u001b[0m\n\u001b[0;32m----> 2\u001b[0;31m \u001b[0mfd\u001b[0m \u001b[0;34m=\u001b[0m \u001b[0mfile\u001b[0m\u001b[0;34m.\u001b[0m\u001b[0mfdcurves\u001b[0m\u001b[0;34m[\u001b[0m\u001b[0;34m\"baseline\"\u001b[0m\u001b[0;34m]\u001b[0m\u001b[0;34m\u001b[0m\u001b[0;34m\u001b[0m\u001b[0m\n\u001b[0m\u001b[1;32m      3\u001b[0m \u001b[0mfd\u001b[0m\u001b[0;34m.\u001b[0m\u001b[0mplot_scatter\u001b[0m\u001b[0;34m(\u001b[0m\u001b[0;34m)\u001b[0m\u001b[0;34m\u001b[0m\u001b[0;34m\u001b[0m\u001b[0m\n",
      "\u001b[0;31mKeyError\u001b[0m: 'baseline'"
     ]
    }
   ],
   "source": [
    "# Pick a single FD curve\n",
    "fd = file.fdcurves[\"baseline\"]\n",
    "fd.plot_scatter()"
   ]
  },
  {
   "cell_type": "markdown",
   "metadata": {},
   "source": [
    "Here, `.fdcurves` is a standard Python dictionary, so we can do standard `dict` thing with it. For example, we can iterate over all the FD curve in a file and plot them:"
   ]
  },
  {
   "cell_type": "code",
   "execution_count": null,
   "metadata": {},
   "outputs": [],
   "source": [
    "for name, fd in file.fdcurves.items():\n",
    "    fd.plot_scatter()\n",
    "    plt.savefig(name)"
   ]
  },
  {
   "cell_type": "markdown",
   "metadata": {},
   "source": [
    "By default, the FD channel pair is `downsampled_force2` and `distance1`. This assumes that the force extension was done by moving trap 1, which is the most common. In that situation the force measured by trap 2 is more precise because that trap is static. The channels can be switched with the following code:"
   ]
  },
  {
   "cell_type": "code",
   "execution_count": null,
   "metadata": {},
   "outputs": [],
   "source": [
    "alt_fd = fd.with_channels(force='1x', distance='2')\n",
    "alt_fd.plot_scatter()\n",
    "\n",
    "# or as quick one-liner for plotting\n",
    "fd.with_channels(force='2y', distance='2').plot_scatter()"
   ]
  },
  {
   "cell_type": "markdown",
   "metadata": {},
   "source": [
    "The raw data can be accessed as well:"
   ]
  },
  {
   "cell_type": "code",
   "execution_count": null,
   "metadata": {},
   "outputs": [],
   "source": [
    "# Access the raw data: default force and distance channels\n",
    "force = fd.f\n",
    "distance = fd.d\n",
    "\n",
    "# Access the raw data: specific channels\n",
    "force = fd.downsampled_force1y\n",
    "distance = fd.distance2\n",
    "\n",
    "# Plot manually: FD curve\n",
    "plt.scatter(distance.data, force.data)\n",
    "# Plot manually: force timetrace\n",
    "plt.plot(force.timestamps, force.data)"
   ]
  }
 ],
 "metadata": {
  "kernelspec": {
   "display_name": "Python 3",
   "language": "python",
   "name": "python3"
  },
  "language_info": {
   "codemirror_mode": {
    "name": "ipython",
    "version": 3
   },
   "file_extension": ".py",
   "mimetype": "text/x-python",
   "name": "python",
   "nbconvert_exporter": "python",
   "pygments_lexer": "ipython3",
   "version": "3.6.7"
  }
 },
 "nbformat": 4,
 "nbformat_minor": 2
}
