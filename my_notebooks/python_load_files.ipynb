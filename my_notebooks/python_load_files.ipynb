{
 "cells": [
  {
   "cell_type": "code",
   "execution_count": 6,
   "metadata": {},
   "outputs": [
    {
     "name": "stdout",
     "output_type": "stream",
     "text": [
      "1.16.2\n",
      "0.3.1\n",
      "2.2.4\n"
     ]
    }
   ],
   "source": [
    "import numpy as np\n",
    "import matplotlib.pyplot as plt\n",
    "import matplotlib \n",
    "\n",
    "from lumicks import pylake\n",
    "\n",
    "%matplotlib inline\n",
    "print(np.__version__)\n",
    "print(pylake.__version__)\n",
    "print(matplotlib.__version__)"
   ]
  },
  {
   "cell_type": "markdown",
   "metadata": {},
   "source": [
    "# Python\n",
    "\n",
    "[Download this page as a Jupyter notebook](_downloads/python_load_files.ipynb)\n",
    "\n",
    "The script for this page with sample data can be downloaded from here.\n",
    "\n",
    "This page explains how to open .h5df files  in Python (Jupyter Notebook) and what you can do with each variable\n",
    "\n",
    "You would need to use Pylake to easly access data in the exported files. You only have to run this script once to make sure Pylake is installed:"
   ]
  },
  {
   "cell_type": "code",
   "execution_count": 7,
   "metadata": {},
   "outputs": [
    {
     "name": "stdout",
     "output_type": "stream",
     "text": [
      "/bin/sh: 1: pip: not found\r\n"
     ]
    }
   ],
   "source": [
    "!pip install lumicks.pylake"
   ]
  },
  {
   "cell_type": "markdown",
   "metadata": {},
   "source": [
    "If it says “Requirement already satisfied”, then no need to run this each time you run a script.\n",
    "\n",
    "Load libraries so that you can analyze the exported data:"
   ]
  },
  {
   "cell_type": "code",
   "execution_count": 8,
   "metadata": {},
   "outputs": [],
   "source": [
    "# Pylake package that LUMICKS provides\n",
    "import lumicks.pylake as pylake\n",
    "\n",
    "# standard python toolkit for more elaborate mathematical operations\n",
    "import numpy as np\n",
    "\n",
    "# plotting library\n",
    "import matplotlib.pyplot as plt"
   ]
  },
  {
   "cell_type": "markdown",
   "metadata": {},
   "source": [
    "## Load Files\n",
    "\n",
    "To load one file, we need to run the following lines of code:"
   ]
  },
  {
   "cell_type": "code",
   "execution_count": 9,
   "metadata": {},
   "outputs": [
    {
     "name": "stdout",
     "output_type": "stream",
     "text": [
      "File root metadata:\n",
      "- Bluelake version: 1.5.5\n",
      "- Description: 1mM Spermine 1uM DNA. 10 percent Cy3 labeled DNA, no biotin label. widom 601 (MP vector amplicon). \n",
      "\n",
      "- Experiment: 1mM Spermine 1uM DNA\n",
      "- Export time (ns): 1553814473028346000\n",
      "- File format version: 2\n",
      "- GUID: {A0F6400C-7A0B-46E0-BE95-0BAA97F6D7D4}\n",
      "\n",
      "Calibration:\n",
      "  55:\n",
      "    Force 1x\n",
      "    Force 1y\n",
      "    Force 2x\n",
      "    Force 2y\n",
      "    JSON:\n",
      "    - Data type: object\n",
      "    - Size: 1\n",
      "Confocal diagnostics:\n",
      "  Excitation Laser Blue:\n",
      "  - Data type: [('Timestamp', '<i8'), ('Value', '<f8')]\n",
      "  - Size: 1\n",
      "  Excitation Laser Green:\n",
      "  - Data type: [('Timestamp', '<i8'), ('Value', '<f8')]\n",
      "  - Size: 1\n",
      "  Excitation Laser Red:\n",
      "  - Data type: [('Timestamp', '<i8'), ('Value', '<f8')]\n",
      "  - Size: 1\n",
      "Diagnostics:\n",
      "  Pressure:\n",
      "  - Data type: [('Timestamp', '<i8'), ('Value', '<f8')]\n",
      "  - Size: 1318\n",
      "Distance:\n",
      "  Distance 1:\n",
      "  - Data type: [('Timestamp', '<i8'), ('Value', '<f8')]\n",
      "  - Size: 5772\n",
      "Force HF:\n",
      "  Force 1x:\n",
      "  - Data type: float64\n",
      "  - Size: 26058553\n",
      "  Force 1y:\n",
      "  - Data type: float64\n",
      "  - Size: 26058553\n",
      "  Force 2x:\n",
      "  - Data type: float64\n",
      "  - Size: 26058553\n",
      "  Force 2y:\n",
      "  - Data type: float64\n",
      "  - Size: 26058553\n",
      "Force LF:\n",
      "  Force 1x:\n",
      "  - Data type: [('Timestamp', '<i8'), ('Value', '<f8')]\n",
      "  - Size: 5772\n",
      "  Force 1y:\n",
      "  - Data type: [('Timestamp', '<i8'), ('Value', '<f8')]\n",
      "  - Size: 5772\n",
      "  Force 2x:\n",
      "  - Data type: [('Timestamp', '<i8'), ('Value', '<f8')]\n",
      "  - Size: 5772\n",
      "  Force 2y:\n",
      "  - Data type: [('Timestamp', '<i8'), ('Value', '<f8')]\n",
      "  - Size: 5772\n",
      "  Trap 1:\n",
      "  - Data type: [('Timestamp', '<i8'), ('Value', '<f8')]\n",
      "  - Size: 5772\n",
      "  Trap 2:\n",
      "  - Data type: [('Timestamp', '<i8'), ('Value', '<f8')]\n",
      "  - Size: 5772\n",
      "Info wave:\n",
      "  Info wave:\n",
      "  - Data type: uint8\n",
      "  - Size: 26058553\n",
      "Marker:\n",
      "  1:\n",
      "  - Data type: object\n",
      "  - Size: 1\n",
      "Photon count:\n",
      "  Blue:\n",
      "  - Data type: uint32\n",
      "  - Size: 26058553\n",
      "  Green:\n",
      "  - Data type: uint32\n",
      "  - Size: 26058553\n",
      "  Red:\n",
      "  - Data type: uint32\n",
      "  - Size: 26058553\n",
      "Scan:\n",
      "  19:\n",
      "  - Data type: object\n",
      "  - Size: 1\n",
      "\n"
     ]
    }
   ],
   "source": [
    "filename = r'/mnt/d/ctrap/data/2019-03-29 trap training/20190328-190753 1mM Spermine 1uM DNA Scan 19.h5'\n",
    "f = pylake.File(filename)\n",
    "print(f)"
   ]
  },
  {
   "cell_type": "markdown",
   "metadata": {},
   "source": [
    "In Python, we can also get a list of all the files in one folder, and we can store this list and load the files one by one:"
   ]
  },
  {
   "cell_type": "code",
   "execution_count": 10,
   "metadata": {},
   "outputs": [
    {
     "name": "stdout",
     "output_type": "stream",
     "text": [
      "found 6 files in folder\n",
      "../data/2019-03-29 trap training/20190328-190753 1mM Spermine 1uM DNA Scan 19.h5\n",
      "../data/2019-03-29 trap training/20190328-191346 1mM Spermine 1uM DNA Scan 19.h5\n",
      "../data/2019-03-29 trap training/20190328-191353 1mM Spermine 1uM DNA Scan 18.h5\n",
      "../data/2019-03-29 trap training/20190328-201848 1mM Spermine 1uM DNA Scan 17.h5\n",
      "../data/2019-03-29 trap training/20190328-201941 1mM Spermine 1uM DNA Scan 16.h5\n",
      "../data/2019-03-29 trap training/20190328-202045 1mM Spermine 1uM DNA Scan 15.h5\n"
     ]
    }
   ],
   "source": [
    "# load a library to look for files in a folder\n",
    "import glob\n",
    "\n",
    "# select the folder, here we search for .h5 files in the folder where you're running the script in\n",
    "files = glob.glob('../data/2019-03-29 trap training/*Scan*.h5')\n",
    "print(\"found {} files in folder\".format(len(files)))\n",
    "\n",
    "for file in files:\n",
    "    print(file)\n",
    "    f = pylake.File(file)\n",
    "    # do the operation on each file here"
   ]
  },
  {
   "cell_type": "markdown",
   "metadata": {},
   "source": [
    "## List the Content of a File\n",
    "\n",
    "We can view the structure of a loaded file like this:"
   ]
  },
  {
   "cell_type": "code",
   "execution_count": 2,
   "metadata": {},
   "outputs": [
    {
     "ename": "SyntaxError",
     "evalue": "invalid syntax (<ipython-input-2-17583c133125>, line 2)",
     "output_type": "error",
     "traceback": [
      "\u001b[0;36m  File \u001b[0;32m\"<ipython-input-2-17583c133125>\"\u001b[0;36m, line \u001b[0;32m2\u001b[0m\n\u001b[0;31m    f = pylake.File filename\u001b[0m\n\u001b[0m                           ^\u001b[0m\n\u001b[0;31mSyntaxError\u001b[0m\u001b[0;31m:\u001b[0m invalid syntax\n"
     ]
    }
   ],
   "source": [
    "#filename = 'Data/20181121-174038 Marker Single tether.h5'\n",
    "f = pylake.File(filename)\n",
    "print(f)"
   ]
  },
  {
   "cell_type": "markdown",
   "metadata": {},
   "source": [
    "There are two types of variables in these files in general:\n",
    "\n",
    "* Time-traces, e.g. force, distance recordings, confocal recordings, photon count\n",
    "  \n",
    "* Events, e.g. trap calibration, zeroing the force\n",
    "  \n",
    "Let’s look at the first type.\n",
    "\n",
    "## Access Time-Traces / Channels\n",
    "\n",
    "* “f” is the file that you previously selected\n",
    "  \n",
    "* the first bracket is the type of variable you’re interested in. These are the leftmost items in the list (e.g. Distance or Force)\n",
    "  \n",
    "* the second bracket is the secondary item in that list. E.g. “Force 1x” is located inside “Force HF”\n",
    "  \n",
    "So a sample code would be like this:"
   ]
  },
  {
   "cell_type": "code",
   "execution_count": 12,
   "metadata": {},
   "outputs": [],
   "source": [
    "force1x = f[\"Force HF\"][\"Force 1x\"]\n",
    "\n",
    "# or\n",
    "\n",
    "distance = f['Distance']['Distance 1']"
   ]
  },
  {
   "cell_type": "code",
   "execution_count": 13,
   "metadata": {},
   "outputs": [
    {
     "name": "stdout",
     "output_type": "stream",
     "text": [
      "data\n",
      "downsampled_by\n",
      "labels\n",
      "plot\n",
      "sample_rate\n",
      "timestamps\n"
     ]
    }
   ],
   "source": [
    "for fxn in dir(force1x):\n",
    "    if not fxn.startswith('_'):\n",
    "        print(fxn)"
   ]
  },
  {
   "cell_type": "markdown",
   "metadata": {},
   "source": [
    "Then you can use different commands on these files:\n",
    "\n",
    "* `.plot()` to plot these items\n",
    "  \n",
    "* `['0s':'10s']` to slice them\n",
    "  \n",
    "* `.sample_rate` to obtain the sampling rate of this variable\n",
    "  \n",
    "* `.downsampled_by(100)` to downsample the by 100 fold\n",
    "  \n",
    "* `.data` to obtain the raw data from these files\n",
    "  \n",
    "* `.timestamps` to obtain the time data ponts from this data (note that time is in nanoseconds)\n",
    "  \n",
    "AND you can also combine these command\n",
    "\n",
    "`.plot()` plots the different measured parameters, e.g. force:"
   ]
  },
  {
   "cell_type": "code",
   "execution_count": 14,
   "metadata": {},
   "outputs": [
    {
     "data": {
      "image/png": "[encoded data removed]",
      "text/plain": [
       "<Figure size 432x288 with 1 Axes>"
      ]
     },
     "metadata": {
      "needs_background": "light"
     },
     "output_type": "display_data"
    }
   ],
   "source": [
    "plt.figure()\n",
    "\n",
    "force1x.plot()"
   ]
  },
  {
   "cell_type": "markdown",
   "metadata": {},
   "source": [
    "`['1s':'10s']` slices them to look at only a certain section of the data:"
   ]
  },
  {
   "cell_type": "code",
   "execution_count": 15,
   "metadata": {},
   "outputs": [
    {
     "data": {
      "image/png": "[encoded data removed]",
      "text/plain": [
       "<Figure size 432x288 with 1 Axes>"
      ]
     },
     "metadata": {
      "needs_background": "light"
     },
     "output_type": "display_data"
    }
   ],
   "source": [
    "force1x['1s':'10s'].plot()"
   ]
  },
  {
   "cell_type": "markdown",
   "metadata": {},
   "source": [
    "`.sample_rate` gives you the sampling rate in Hz:"
   ]
  },
  {
   "cell_type": "code",
   "execution_count": 19,
   "metadata": {},
   "outputs": [
    {
     "name": "stdout",
     "output_type": "stream",
     "text": [
      "78125\n",
      "[1.55380977e+27 1.55380977e+27 1.55380977e+27 ... 1.55381010e+27\n",
      " 1.55381010e+27 1.55381010e+27]\n"
     ]
    }
   ],
   "source": [
    "sampling_rate = force1x.sample_rate\n",
    "print(sampling_rate)\n",
    "force_time = (force_time - force_time[0]) * 1e-9\n",
    "print(time_stamps)"
   ]
  },
  {
   "cell_type": "markdown",
   "metadata": {},
   "source": [
    "`.downsampled_by(100)` downsamples the force to a certain sampling frequency:"
   ]
  },
  {
   "cell_type": "code",
   "execution_count": 13,
   "metadata": {},
   "outputs": [],
   "source": [
    "final_sampling_rate = 100 #Hz\n",
    "force1x_100Hz = force1x.downsampled_by(int( sampling_rate / final_sampling_rate ))"
   ]
  },
  {
   "cell_type": "markdown",
   "metadata": {},
   "source": [
    "Now we can plot the downsampled force with the original:"
   ]
  },
  {
   "cell_type": "code",
   "execution_count": 14,
   "metadata": {},
   "outputs": [
    {
     "data": {
      "image/png": "[encoded data removed]",
      "text/plain": [
       "<Figure size 432x288 with 1 Axes>"
      ]
     },
     "metadata": {
      "needs_background": "light"
     },
     "output_type": "display_data"
    }
   ],
   "source": [
    "force1x.plot()\n",
    "force1x_100Hz.plot()"
   ]
  },
  {
   "cell_type": "markdown",
   "metadata": {},
   "source": [
    "We can also get the RAW data out and plot them ourselves:"
   ]
  },
  {
   "cell_type": "code",
   "execution_count": 27,
   "metadata": {},
   "outputs": [
    {
     "data": {
      "text/plain": [
       "[<matplotlib.lines.Line2D at 0x7f1cc0b209e8>]"
      ]
     },
     "execution_count": 27,
     "metadata": {},
     "output_type": "execute_result"
    },
    {
     "data": {
      "image/png": "[encoded data removed]",
      "text/plain": [
       "<Figure size 432x288 with 1 Axes>"
      ]
     },
     "metadata": {
      "needs_background": "light"
     },
     "output_type": "display_data"
    }
   ],
   "source": [
    "force_data = force1x_100Hz['100s':'150s'].data\n",
    "force_time = force1x_100Hz['100s':'150s'].timestamps\n",
    "force1x_100Hz_subslice = force1x_100Hz['10s':'12s']\n",
    "\n",
    "\"\"\" Please NOTE that the time data are in NANOSECONDS\n",
    "\n",
    "    We can convert them to seconds in this way, you subtract the first (zeroth) value, then divide by 1e9 (ten to the power of nine)\n",
    "\"\"\"\n",
    "\n",
    "force_time = (force_time - force_time[0]) * 1e-9\n",
    "\n",
    "# plot them\n",
    "plt.plot(force_time[:100], force_data[:100])"
   ]
  },
  {
   "cell_type": "markdown",
   "metadata": {},
   "source": [
    "## Plot Force-Distance Curve\n",
    "\n",
    "We can make the same plot as before with the obtained data:"
   ]
  },
  {
   "cell_type": "code",
   "execution_count": 28,
   "metadata": {},
   "outputs": [
    {
     "data": {
      "text/plain": [
       "Text(0,0.5,'Force (pN)')"
      ]
     },
     "execution_count": 28,
     "metadata": {},
     "output_type": "execute_result"
    },
    {
     "data": {
      "image/png": "[encoded data removed]",
      "text/plain": [
       "<Figure size 432x288 with 1 Axes>"
      ]
     },
     "metadata": {
      "needs_background": "light"
     },
     "output_type": "display_data"
    }
   ],
   "source": [
    "force_data = f[\"Force LF\"][\"Force 1x\"].data\n",
    "distance_data = f[\"Distance\"][\"Distance 1\"].data\n",
    "\n",
    "plt.plot(distance_data, force_data)\n",
    "\n",
    "\"\"\"Now you have to label the axis yourselves\"\"\"\n",
    "\n",
    "plt.xlabel(\"Distance (um)\")\n",
    "plt.ylabel(\"Force (pN)\")"
   ]
  },
  {
   "cell_type": "markdown",
   "metadata": {},
   "source": [
    "## Access Events (e.g. calibration)\n",
    "\n",
    "These are the second type of variables, that are recorded at one point in time and not continuously.\n",
    "\n",
    "In terms of calibration events, we have 1 in the dataset that is named “123”. We can access it the same way:"
   ]
  },
  {
   "cell_type": "code",
   "execution_count": 29,
   "metadata": {},
   "outputs": [],
   "source": [
    "params = f[\"Calibration\"][\"55\"][\"Force 1x\"]"
   ]
  },
  {
   "cell_type": "markdown",
   "metadata": {},
   "source": [
    "We can also apply certain functions to these files:\n",
    "\n",
    "* `.h5.attrs.items()` to get a list of what was recorded during this event\n",
    "  \n",
    "* `.attrs.get()` to obtain one of the parameters in the marker\n",
    "  \n",
    "`.h5.attrs.items()` can print the list of calibration paramenters:"
   ]
  },
  {
   "cell_type": "code",
   "execution_count": 36,
   "metadata": {},
   "outputs": [
    {
     "name": "stdout",
     "output_type": "stream",
     "text": [
      "('Bead diameter (um)', 4.42)\n",
      "('D (V^2/s)', 0.13571619999022305)\n",
      "('Fit range (max.) (Hz)', 23000.0)\n",
      "('Fit range (min.) (Hz)', 300.0)\n",
      "('Fit tolerance', 1e-07)\n",
      "('Kind', 'Reset offset to zero')\n",
      "('Max iterations', 10000.0)\n",
      "('Number of samples', 250000.0)\n",
      "('Offset (pN)', -135.9581281864895)\n",
      "('Points per block', 200.0)\n",
      "('Rd (um/V)', 0.8481380647775624)\n",
      "('Response (pN/V)', 676.8979185460395)\n",
      "('Rf (pN/V)', 676.8979185460395)\n",
      "('Sample rate (Hz)', 78125.0)\n",
      "('Sign', 1.0)\n",
      "('Start time (ns)', 1553807793087392400)\n",
      "('Stop time (ns)', 1553807796287392400)\n",
      "('Temperature (C)', 22.0)\n",
      "('Viscosity (Pa*s)', 0.001002)\n",
      "('alpha', 0.3150970705707482)\n",
      "('backing (%)', 97.97688277669849)\n",
      "('chi_squared_per_deg', 1.1586201584874878)\n",
      "('err_D', 0.00558862048722326)\n",
      "('err_alpha', 0.005743097941572989)\n",
      "('err_f_diode', 307.71446080339564)\n",
      "('err_fc', 82.55510825150745)\n",
      "('f_diode (Hz)', 7667.423133458266)\n",
      "('fc (Hz)', 3043.095886869405)\n",
      "('kappa (pN/nm)', 0.7980987372893901)\n",
      "('ps_fitted', 0.0)\n",
      "('ps_model_fit', 0.0)\n",
      "4.42\n"
     ]
    }
   ],
   "source": [
    "attributes = list(params.h5.attrs.items())\n",
    "\n",
    "for attr in attributes:\n",
    "    print(attr)\n",
    "\n",
    "print(params.h5.attrs['Bead diameter (um)'])"
   ]
  },
  {
   "cell_type": "markdown",
   "metadata": {},
   "source": [
    "`.attrs.get()` can grab the parameter of interest, e.g. stiffness:"
   ]
  },
  {
   "cell_type": "code",
   "execution_count": 37,
   "metadata": {},
   "outputs": [
    {
     "name": "stdout",
     "output_type": "stream",
     "text": [
      "0.7980987372893901\n"
     ]
    }
   ],
   "source": [
    "stiffness = params.h5.attrs.get(\"kappa (pN/nm)\")\n",
    "print(stiffness)"
   ]
  },
  {
   "cell_type": "code",
   "execution_count": null,
   "metadata": {},
   "outputs": [],
   "source": []
  }
 ],
 "metadata": {
  "kernelspec": {
   "display_name": "Python 3",
   "language": "python",
   "name": "python3"
  },
  "language_info": {
   "codemirror_mode": {
    "name": "ipython",
    "version": 3
   },
   "file_extension": ".py",
   "mimetype": "text/x-python",
   "name": "python",
   "nbconvert_exporter": "python",
   "pygments_lexer": "ipython3",
   "version": "3.6.7"
  }
 },
 "nbformat": 4,
 "nbformat_minor": 2
}
