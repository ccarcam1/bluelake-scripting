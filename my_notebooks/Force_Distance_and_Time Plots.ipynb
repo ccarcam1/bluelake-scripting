{
 "cells": [
  {
   "cell_type": "code",
   "execution_count": 4,
   "metadata": {},
   "outputs": [],
   "source": [
    "# Initialize \n",
    "import matplotlib.patches as mpatches\n",
    "import numpy as np\n",
    "import scipy as sc\n",
    "from scipy import stats\n",
    "import matplotlib.pyplot as plt\n",
    "from lumicks import pylake\n",
    "%matplotlib inline"
   ]
  },
  {
   "cell_type": "code",
   "execution_count": 6,
   "metadata": {},
   "outputs": [],
   "source": [
    "#Find Directory \n",
    "directory = '/mnt/d/OneDrive - Johns Hopkins University/Ha_CCarcamo/Data/C_Trap/2019-10-25 drug DNA properties/'"
   ]
  },
  {
   "cell_type": "code",
   "execution_count": 13,
   "metadata": {},
   "outputs": [
    {
     "ename": "NameError",
     "evalue": "name 'cd' is not defined",
     "output_type": "error",
     "traceback": [
      "\u001b[0;31m---------------------------------------------------------------------------\u001b[0m",
      "\u001b[0;31mNameError\u001b[0m                                 Traceback (most recent call last)",
      "\u001b[0;32m<ipython-input-13-2eebc685c6d9>\u001b[0m in \u001b[0;36m<module>\u001b[0;34m\u001b[0m\n\u001b[0;32m----> 1\u001b[0;31m \u001b[0mcd\u001b[0m\u001b[0;34m(\u001b[0m\u001b[0mdirectory\u001b[0m\u001b[0;34m)\u001b[0m\u001b[0;34m\u001b[0m\u001b[0;34m\u001b[0m\u001b[0m\n\u001b[0m\u001b[1;32m      2\u001b[0m \u001b[0mfilename\u001b[0m \u001b[0;34m=\u001b[0m \u001b[0;34m'220191025-162418 FD Curve 8 buffer only approach.h5'\u001b[0m\u001b[0;34m\u001b[0m\u001b[0;34m\u001b[0m\u001b[0m\n\u001b[1;32m      3\u001b[0m \u001b[0mprint\u001b[0m\u001b[0;34m(\u001b[0m\u001b[0mfilename\u001b[0m\u001b[0;34m)\u001b[0m\u001b[0;34m\u001b[0m\u001b[0;34m\u001b[0m\u001b[0m\n\u001b[1;32m      4\u001b[0m \u001b[0;31m# file = pylake.File(filename)\u001b[0m\u001b[0;34m\u001b[0m\u001b[0;34m\u001b[0m\u001b[0;34m\u001b[0m\u001b[0m\n\u001b[1;32m      5\u001b[0m \u001b[0;34m\u001b[0m\u001b[0m\n",
      "\u001b[0;31mNameError\u001b[0m: name 'cd' is not defined"
     ]
    }
   ],
   "source": [
    "cd(directory)\n",
    "filename = '220191025-162418 FD Curve 8 buffer only approach.h5'\n",
    "print(filename)\n",
    "# file = pylake.File(filename)\n",
    "\n",
    "# filename1 = directory + r'20191025-162418 FD Curve 9 buffer only return.h5'\n",
    "# file1 = pylake.File(filename1)"
   ]
  },
  {
   "cell_type": "code",
   "execution_count": null,
   "metadata": {},
   "outputs": [],
   "source": [
    "# CROP time trace to include just extension and relaxation veclocity clamp data\n",
    "\n",
    "#determine cut-off for FD plots for start and stop of velocity-clamp\n",
    "distance_data = file1[\"Distance\"][\"Distance 1\"]['4s':'43s'].data\n",
    "time = file1[\"Distance\"][\"Distance 1\"]['4s':'43s'].timestamps \n",
    "time = (time - time[0]) * 1e-9\n",
    "derivative_rounded = np.around(distance_data[1:]-distance_data[:-1],2)\n",
    "first_occurr = np.where(derivative_rounded != 0)[0].min()\n",
    "last_occurr = np.where(derivative_rounded != 0)[0].max()\n",
    "first_time= time[first_occurr]\n",
    "final_time= time[last_occurr]\n",
    "first_time_s = str(first_time)+\"s\"\n",
    "final_time_s =  str(final_time)+\"s\"\n",
    "\n",
    "plt.figure()\n",
    "#Plot distance versus time curve\n",
    "fig, ax1 = plt.subplots()\n",
    "distance = file1[\"Distance\"][\"Distance 1\"]['4s':'43s']\n",
    "distance_data = distance[first_time_s :final_time_s].data\n",
    "time = distance[first_time_s :final_time_s].timestamps \n",
    "time = (time - time[0]) * 1e-9\n",
    "color = 'xkcd:rose'\n",
    "ax1.set_ylabel('Distance(µm)',color=color)\n",
    "ax1.set_xlabel(\"Time (s)\")\n",
    "ax1.plot(time,distance_data,color=color)\n",
    "#Plot force versus time curve\n",
    "force1xLF = file1[\"Force LF\"][\"Force 1x\"]['4s':'43s']\n",
    "force_data = force1xLF[first_time_s :final_time_s].data\n",
    "force_time = force1xLF[first_time_s :final_time_s].timestamps\n",
    "force_time = (force_time - force_time[0]) * 1e-9\n",
    "ax2 = ax1.twinx() \n",
    "color = 'tab:red'\n",
    "ax2.set_ylabel('Force(pN)',color=color)\n",
    "ax2.plot(force_time, force_data, color=color)\n",
    "legend = mpatches.Patch(color=color, label='YOYO1')\n",
    "plt.legend(handles=[legend])\n",
    "\n",
    "#determine cut-off for FD plots for start and stop of velocity-clamp #2 \n",
    "distance_data = file[\"Distance\"][\"Distance 1\"]['0s':'39s'].data\n",
    "time = file[\"Distance\"][\"Distance 1\"]['0s':'39s'].timestamps \n",
    "time = (time - time[0]) * 1e-9\n",
    "derivative_rounded = np.around(distance_data[1:]-distance_data[:-1],2)\n",
    "first_occurr = np.where(derivative_rounded != 0)[0].min()\n",
    "last_occurr = np.where(derivative_rounded != 0)[0].max()\n",
    "first_time= time[first_occurr]\n",
    "final_time= time[last_occurr]\n",
    "first_time_s = str(first_time)+\"s\"\n",
    "final_time_s =  str(final_time)+\"s\"\n",
    "\n",
    "#Plot distance versus time curve #2 \n",
    "\n",
    "distance = file[\"Distance\"][\"Distance 1\"]['0s':'39s']\n",
    "distance_data = distance[first_time_s :final_time_s].data\n",
    "time = distance[first_time_s :final_time_s].timestamps \n",
    "time = (time - time[0]) * 1e-9\n",
    "color = 'xkcd:yellow green'\n",
    "ax1.plot(time,distance_data,color=color)\n",
    "\n",
    "#Plot force versus time curve #2 \n",
    "force1xLF = file[\"Force LF\"][\"Force 1x\"]['0s':'39s']\n",
    "force_data = force1xLF[first_time_s :final_time_s].data\n",
    "force_time = force1xLF[first_time_s :final_time_s].timestamps\n",
    "force_time = (force_time - force_time[0]) * 1e-9\n",
    "ax2 = ax1.twinx() \n",
    "color = 'tab:green'\n",
    "ax2.plot(force_time, force_data, color=color)\n",
    "legend2 = mpatches.Patch(color=color, label='buffer')\n",
    "\n",
    "\n",
    "\n",
    "plt.title(\"Force/Distance/Time Plot Lambda DNA \\n with and without YOYO1\")\n",
    "plt.legend(handles=[legend,legend2])\n",
    "plt.savefig(\"Force_Distance_Time Plot Lambda DNA with and without YOYO1\",  bbox_inches=\"tight\")"
   ]
  }
 ],
 "metadata": {
  "kernelspec": {
   "display_name": "Python 3",
   "language": "python",
   "name": "python3"
  },
  "language_info": {
   "codemirror_mode": {
    "name": "ipython",
    "version": 3
   },
   "file_extension": ".py",
   "mimetype": "text/x-python",
   "name": "python",
   "nbconvert_exporter": "python",
   "pygments_lexer": "ipython3",
   "version": "3.6.7"
  }
 },
 "nbformat": 4,
 "nbformat_minor": 2
}
